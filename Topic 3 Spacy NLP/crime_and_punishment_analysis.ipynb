{
 "cells": [
  {
   "cell_type": "code",
   "execution_count": 1,
   "metadata": {},
   "outputs": [
    {
     "name": "stderr",
     "output_type": "stream",
     "text": [
      "2022-07-04 18:55:45.908138: W tensorflow/stream_executor/platform/default/dso_loader.cc:64] Could not load dynamic library 'libcudart.so.11.0'; dlerror: libcudart.so.11.0: cannot open shared object file: No such file or directory\n",
      "2022-07-04 18:55:45.908164: I tensorflow/stream_executor/cuda/cudart_stub.cc:29] Ignore above cudart dlerror if you do not have a GPU set up on your machine.\n"
     ]
    }
   ],
   "source": [
    "import pandas as pd\n",
    "import numpy as np\n",
    "import matplotlib.pyplot as plt\n",
    "import seaborn as sns\n",
    "\n",
    "\n",
    "import re\n",
    "\n",
    "import spacy\n",
    "import nltk\n",
    "from nltk.corpus import stopwords\n"
   ]
  },
  {
   "cell_type": "code",
   "execution_count": 67,
   "metadata": {},
   "outputs": [],
   "source": [
    "book = \"../data/Crime and punishment.txt\"\n",
    "\n",
    "with open(book, 'r') as f:\n",
    "    text = f.read()"
   ]
  },
  {
   "cell_type": "markdown",
   "metadata": {},
   "source": [
    "# **_PART I_**"
   ]
  },
  {
   "cell_type": "markdown",
   "metadata": {},
   "source": [
    "### Experiment with sub sample from main text"
   ]
  },
  {
   "cell_type": "code",
   "execution_count": 76,
   "metadata": {},
   "outputs": [],
   "source": [
    "sub_text = text[:1000]"
   ]
  },
  {
   "cell_type": "code",
   "execution_count": 77,
   "metadata": {},
   "outputs": [
    {
     "data": {
      "text/plain": [
       "'\\ufeff\\nCRIME AND PUNISHMENT\\n\\n\\n\\n\\nPART I\\n\\n\\n\\nCHAPTER I\\n\\nOn an exceptionally hot evening early in July a young man came out of\\nthe garret in which he lodged in S. Place and walked slowly, as though\\nin hesitation, towards K. bridge.\\n\\nHe had successfully avoided meeting his landlady on the staircase. His\\ngarret was under the roof of a high, five-storied house and was more\\nlike a cupboard than a room. The landlady who provided him with garret,\\ndinners, and attendance, lived on the floor below, and every time\\nhe went out he was obliged to pass her kitchen, the door of which\\ninvariably stood open. And each time he passed, the young man had a\\nsick, frightened feeling, which made him scowl and feel ashamed. He was\\nhopelessly in debt to his landlady, and was afraid of meeting her.\\n\\nThis was not because he was cowardly and abject, quite the contrary; but\\nfor some time past he had been in an overstrained irritable condition,\\nverging on hypochondria. He had become so completely absorbed in\\nhimself, and is'"
      ]
     },
     "execution_count": 77,
     "metadata": {},
     "output_type": "execute_result"
    }
   ],
   "source": [
    "sub_text"
   ]
  },
  {
   "cell_type": "code",
   "execution_count": 78,
   "metadata": {},
   "outputs": [],
   "source": [
    "sub_text = sub_text.lower()"
   ]
  },
  {
   "cell_type": "code",
   "execution_count": 79,
   "metadata": {},
   "outputs": [],
   "source": [
    "sub_text = re.sub(r\"(?i)(\\W|^)(CHAPTER|PART|CRIME|AND|PUNISHMENT|I|II|III|IV|V|VI|VII|VIII|IX|X)(\\W|$)\", \" \", sub_text)"
   ]
  },
  {
   "cell_type": "code",
   "execution_count": 80,
   "metadata": {},
   "outputs": [],
   "source": [
    "\n",
    "sub_text = re.sub(r\"(@\\[A-Za-z0-9]+)|([^0-9A-Za-z \\t])|(\\w+:\\/\\/\\S+)|^rt|http.+?\", \"\", sub_text)"
   ]
  },
  {
   "cell_type": "code",
   "execution_count": 81,
   "metadata": {},
   "outputs": [
    {
     "data": {
      "text/plain": [
       "' and  i ion an exceptionally hot evening early in july a young man came out ofthe garret in which he lodged in s place walked slowly as thoughin hesitation towards k bridgehe had successfully avoided meeting his landlady on the staircase hisgarret was under the roof of a high fivestoried house was morelike a cupboard than a room the landlady who provided him with garretdinners attendance lived on the floor below every timehe went out he was obliged to pass her kitchen the door of whichinvariably stood open each time he passed the young man had asick frightened feeling which made him scowl feel ashamed he washopelessly in debt to his landlady was afraid of meeting herthis was not because he was cowardly abject quite the contrary butfor some time past he had been in an overstrained irritable conditionverging on hypochondria he had become so completely absorbed inhimself is'"
      ]
     },
     "execution_count": 81,
     "metadata": {},
     "output_type": "execute_result"
    }
   ],
   "source": [
    "sub_text"
   ]
  },
  {
   "cell_type": "code",
   "execution_count": 82,
   "metadata": {},
   "outputs": [
    {
     "name": "stdout",
     "output_type": "stream",
     "text": [
      "['i', 'me', 'my', 'myself', 'we', 'our', 'ours', 'ourselves', 'you', \"you're\", \"you've\", \"you'll\", \"you'd\", 'your', 'yours', 'yourself', 'yourselves', 'he', 'him', 'his', 'himself', 'she', \"she's\", 'her', 'hers', 'herself', 'it', \"it's\", 'its', 'itself', 'they', 'them', 'their', 'theirs', 'themselves', 'what', 'which', 'who', 'whom', 'this', 'that', \"that'll\", 'these', 'those', 'am', 'is', 'are', 'was', 'were', 'be', 'been', 'being', 'have', 'has', 'had', 'having', 'do', 'does', 'did', 'doing', 'a', 'an', 'the', 'and', 'but', 'if', 'or', 'because', 'as', 'until', 'while', 'of', 'at', 'by', 'for', 'with', 'about', 'against', 'between', 'into', 'through', 'during', 'before', 'after', 'above', 'below', 'to', 'from', 'up', 'down', 'in', 'out', 'on', 'off', 'over', 'under', 'again', 'further', 'then', 'once', 'here', 'there', 'when', 'where', 'why', 'how', 'all', 'any', 'both', 'each', 'few', 'more', 'most', 'other', 'some', 'such', 'no', 'nor', 'not', 'only', 'own', 'same', 'so', 'than', 'too', 'very', 's', 't', 'can', 'will', 'just', 'don', \"don't\", 'should', \"should've\", 'now', 'd', 'll', 'm', 'o', 're', 've', 'y', 'ain', 'aren', \"aren't\", 'couldn', \"couldn't\", 'didn', \"didn't\", 'doesn', \"doesn't\", 'hadn', \"hadn't\", 'hasn', \"hasn't\", 'haven', \"haven't\", 'isn', \"isn't\", 'ma', 'mightn', \"mightn't\", 'mustn', \"mustn't\", 'needn', \"needn't\", 'shan', \"shan't\", 'shouldn', \"shouldn't\", 'wasn', \"wasn't\", 'weren', \"weren't\", 'won', \"won't\", 'wouldn', \"wouldn't\"]\n"
     ]
    }
   ],
   "source": [
    "stop = stopwords.words('english')\n",
    "print(stop)"
   ]
  },
  {
   "cell_type": "code",
   "execution_count": 83,
   "metadata": {},
   "outputs": [
    {
     "data": {
      "text/plain": [
       "'ion exceptionally hot evening early july young man came ofthe garret lodged place walked slowly thoughin hesitation towards k bridgehe successfully avoided meeting landlady staircase hisgarret roof high fivestoried house morelike cupboard room landlady provided garretdinners attendance lived floor every timehe went obliged pass kitchen door whichinvariably stood open time passed young man asick frightened feeling made scowl feel ashamed washopelessly debt landlady afraid meeting herthis cowardly abject quite contrary butfor time past overstrained irritable conditionverging hypochondria become completely absorbed inhimself'"
      ]
     },
     "execution_count": 83,
     "metadata": {},
     "output_type": "execute_result"
    }
   ],
   "source": [
    "sub_text = \" \".join([word for word in sub_text.split() if word not in (stop)])\n",
    "sub_text"
   ]
  },
  {
   "cell_type": "markdown",
   "metadata": {},
   "source": [
    "# **_PART II_**"
   ]
  },
  {
   "cell_type": "markdown",
   "metadata": {},
   "source": [
    "### Cleaning the unicode characters of main text\n",
    "\n",
    "[]: # Language: markdown\n",
    "[]: # Path: Topic 3 Spacy NLP/crime_and_punishment_analysis.ipynb"
   ]
  },
  {
   "cell_type": "code",
   "execution_count": 84,
   "metadata": {},
   "outputs": [
    {
     "name": "stdout",
     "output_type": "stream",
     "text": [
      "ich he lodged in S. Placewalked slowly, as though\n",
      "in hesitation, towards K. bridge.\n",
      "\n",
      "He had successfully avoided meeting his landlady on the staircase. His\n",
      "garret was under the roof of a high, five-storied housewas more\n",
      "like a cupboard than a room. The landlady who provided him with garret,\n",
      "dinners,attendance, lived on the floor below,every time\n",
      "he went out he was obliged to pass her kitchen, the door of which\n",
      "invariably stood open.each time he passed, the young man had a\n",
      "sick, frightened feeling, which made him scowlfeel ashamed. He was\n",
      "hopelessly in debt to his landlady,was afraid of meeting her.\n",
      "\n",
      "This was not because he was cowardlyabject, quite the contrary; but\n",
      "for some time past he had been in an overstrained irritable condition,\n",
      "verging on hypochondria. He had become so completely absorbed in\n",
      "himself,isolated from his fellows that he dreaded meeting, not\n",
      "only his landlady, but any\n"
     ]
    }
   ],
   "source": [
    "text = re.sub(r\"(?i)(\\W|^)(CHAPTER|PART|CRIME|AND|PUNISHMENT|I|II|III|IV|V|VI|VII|VIII|IX|X)(\\W|$)\", \"\", text)\n",
    "print(text[100:1000])"
   ]
  },
  {
   "cell_type": "code",
   "execution_count": 86,
   "metadata": {},
   "outputs": [],
   "source": [
    "text = text.lower()\n",
    "text = re.sub(r\"(@\\[A-Za-z0-9]+)|([^0-9A-Za-z \\t])|(\\w+:\\/\\/\\S+)|^rt|http.+?\", \"\", text)"
   ]
  },
  {
   "cell_type": "code",
   "execution_count": 87,
   "metadata": {},
   "outputs": [
    {
     "data": {
      "text/plain": [
       "1009864"
      ]
     },
     "execution_count": 87,
     "metadata": {},
     "output_type": "execute_result"
    }
   ],
   "source": [
    "len(text)"
   ]
  },
  {
   "cell_type": "code",
   "execution_count": 98,
   "metadata": {},
   "outputs": [
    {
     "data": {
      "text/plain": [
       "'andiionexceptionallyhoteveningearlyjulyyoungmancameofthegarretlodgedplacewalkedslowlythoughinhesitat'"
      ]
     },
     "execution_count": 98,
     "metadata": {},
     "output_type": "execute_result"
    }
   ],
   "source": [
    "text = \" \".join([word for word in text.split() if word not in (stop)])\n",
    "text[:100]"
   ]
  },
  {
   "cell_type": "code",
   "execution_count": 90,
   "metadata": {},
   "outputs": [],
   "source": [
    "tok= []\n",
    "label = []\n",
    "for i in range(0,10000):\n",
    "    tokens = nlp(text[i*1000: (i+1)*1000])\n",
    "    for w in tokens.ents:\n",
    "        if w.text not in tok:\n",
    "            tok.append(w.text)\n",
    "            label.append(w.label_)\n"
   ]
  },
  {
   "cell_type": "code",
   "execution_count": 91,
   "metadata": {},
   "outputs": [
    {
     "name": "stdout",
     "output_type": "stream",
     "text": [
      "['becausedo nothingve', 'jack thegiantkiller', 'petersburg', 'two days', 'thatin', 'brimlessbent', 'one', 'seven', 'month', 'germans', 'two', 'three four', 'surroundingsin darkness', 'fourth', 'german', 'hisfamily german', 'malignant eyesa', 'month ago', 'half', 'raskolnikov', 'three halfpenny', 'bedchest drawersinto', 'last pledge month', 'another month', 'soona roublea halfinterest advance', 'three', 'strongboxes', 'ten', 'copecks', 'half month', 'twenty', 'iswhat roublefifteen', 'cigarettebox', 'todo esca', 'first', 'five', 'five minutes', 'fifty', 'respectablelike', 'myexperience', 'lebeziatnikov', 'night', 'fifth', 'sharplykept orderat home', 'moneyindeedask', 'england', 'whyask', 'musthave', 'smiledno matteram', 'notcan', 'ohif', 'kn', 'knowhave', 'weakshe hasa tendency consumptioni', 'suffertwice muchas', 'g head', 'showedit landladyalthough', 'lebeziatnikovsrudeness herso', 'fourteen', 'youunderstand', 'touchit yeara half ago', 'iti', 'comeout nowof room amalia', 'four years ago', 'persia', 'lebeziatnikov lewes', 'hon', 'thinlittle', 'katerina ivanovna', 'herthrough landlady', 'six oclocksaw', 'nine', 'thirty roubles', 'silencego sonias', 'byevilintentioned personsin', 'darya frantsovna', 'aleadingon', 'sofya semyonovna', 'takea yellow ti', 'withus landlady amalia', 'darya frantsovna beforemr', 'himkaterina ivanovna soniasaccount', 'happenedsonia', 'katerina ivanovnagives roomat kapernaumovs tailors lodges', 'kapernaumov isa', 'heavenset', 'ivan afanasyvitch', 'statesmana man ofmodern politicalenli', 'five weeks ago', 'eleven', 'goingon', 'dinnerwhat', 'withour', 'landlady amalia', 'two hours', 'six', 'chin beganto', 'five nights', 'next day', 'ago evening']\n",
      "['ORG', 'PERSON', 'GPE', 'DATE', 'ORG', 'ORG', 'CARDINAL', 'CARDINAL', 'DATE', 'NORP', 'CARDINAL', 'CARDINAL', 'PERSON', 'ORDINAL', 'NORP', 'NORP', 'ORG', 'DATE', 'CARDINAL', 'PERSON', 'QUANTITY', 'PERSON', 'DATE', 'DATE', 'PERSON', 'CARDINAL', 'PERSON', 'CARDINAL', 'ORG', 'DATE', 'CARDINAL', 'PERSON', 'ORG', 'PERSON', 'ORDINAL', 'CARDINAL', 'TIME', 'CARDINAL', 'PERSON', 'PERSON', 'PERSON', 'TIME', 'ORDINAL', 'ORG', 'PERSON', 'GPE', 'ORG', 'PERSON', 'PERSON', 'ORG', 'PERSON', 'PERSON', 'PERSON', 'PERSON', 'PERSON', 'PERSON', 'PERSON', 'PERSON', 'DATE', 'PERSON', 'ORG', 'ORG', 'ORG', 'DATE', 'GPE', 'PERSON', 'ORG', 'PERSON', 'PERSON', 'PERSON', 'QUANTITY', 'CARDINAL', 'MONEY', 'PERSON', 'PERSON', 'PERSON', 'ORG', 'PERSON', 'ORG', 'PERSON', 'PERSON', 'PERSON', 'GPE', 'PERSON', 'PERSON', 'PERSON', 'PERSON', 'PERSON', 'DATE', 'CARDINAL', 'ORG', 'PERSON', 'NORP', 'PERSON', 'TIME', 'CARDINAL', 'PERSON', 'TIME', 'DATE', 'TIME']\n"
     ]
    }
   ],
   "source": [
    "print(tok[:100])\n",
    "print(label[:100])"
   ]
  },
  {
   "cell_type": "code",
   "execution_count": 92,
   "metadata": {},
   "outputs": [
    {
     "name": "stdout",
     "output_type": "stream",
     "text": [
      "Size of token: 1725\n",
      "Size of labels: 1725\n"
     ]
    }
   ],
   "source": [
    "print(f\"Size of token: {len(tok)}\\nSize of labels: {len(label)}\")"
   ]
  },
  {
   "cell_type": "code",
   "execution_count": 93,
   "metadata": {},
   "outputs": [],
   "source": [
    "df = pd.DataFrame({'token': tok, 'label': label})"
   ]
  },
  {
   "cell_type": "code",
   "execution_count": 94,
   "metadata": {},
   "outputs": [
    {
     "data": {
      "text/plain": [
       "1725"
      ]
     },
     "execution_count": 94,
     "metadata": {},
     "output_type": "execute_result"
    }
   ],
   "source": [
    "len(df)"
   ]
  },
  {
   "cell_type": "code",
   "execution_count": 95,
   "metadata": {},
   "outputs": [
    {
     "data": {
      "text/html": [
       "<div>\n",
       "<style scoped>\n",
       "    .dataframe tbody tr th:only-of-type {\n",
       "        vertical-align: middle;\n",
       "    }\n",
       "\n",
       "    .dataframe tbody tr th {\n",
       "        vertical-align: top;\n",
       "    }\n",
       "\n",
       "    .dataframe thead th {\n",
       "        text-align: right;\n",
       "    }\n",
       "</style>\n",
       "<table border=\"1\" class=\"dataframe\">\n",
       "  <thead>\n",
       "    <tr style=\"text-align: right;\">\n",
       "      <th></th>\n",
       "      <th>token</th>\n",
       "      <th>label</th>\n",
       "    </tr>\n",
       "  </thead>\n",
       "  <tbody>\n",
       "    <tr>\n",
       "      <th>0</th>\n",
       "      <td>becausedo nothingve</td>\n",
       "      <td>ORG</td>\n",
       "    </tr>\n",
       "    <tr>\n",
       "      <th>1</th>\n",
       "      <td>jack thegiantkiller</td>\n",
       "      <td>PERSON</td>\n",
       "    </tr>\n",
       "    <tr>\n",
       "      <th>2</th>\n",
       "      <td>petersburg</td>\n",
       "      <td>GPE</td>\n",
       "    </tr>\n",
       "    <tr>\n",
       "      <th>3</th>\n",
       "      <td>two days</td>\n",
       "      <td>DATE</td>\n",
       "    </tr>\n",
       "    <tr>\n",
       "      <th>4</th>\n",
       "      <td>thatin</td>\n",
       "      <td>ORG</td>\n",
       "    </tr>\n",
       "  </tbody>\n",
       "</table>\n",
       "</div>"
      ],
      "text/plain": [
       "                 token   label\n",
       "0  becausedo nothingve     ORG\n",
       "1  jack thegiantkiller  PERSON\n",
       "2           petersburg     GPE\n",
       "3             two days    DATE\n",
       "4               thatin     ORG"
      ]
     },
     "execution_count": 95,
     "metadata": {},
     "output_type": "execute_result"
    }
   ],
   "source": [
    "df.head()"
   ]
  },
  {
   "cell_type": "code",
   "execution_count": null,
   "metadata": {},
   "outputs": [],
   "source": []
  }
 ],
 "metadata": {
  "kernelspec": {
   "display_name": "Python 3.9.7 ('tflow')",
   "language": "python",
   "name": "python3"
  },
  "language_info": {
   "codemirror_mode": {
    "name": "ipython",
    "version": 3
   },
   "file_extension": ".py",
   "mimetype": "text/x-python",
   "name": "python",
   "nbconvert_exporter": "python",
   "pygments_lexer": "ipython3",
   "version": "3.9.7"
  },
  "orig_nbformat": 4,
  "vscode": {
   "interpreter": {
    "hash": "9bcb480660d2128d5259e436793ac5c82795c215d28de8bdd682d8e8c0f05304"
   }
  }
 },
 "nbformat": 4,
 "nbformat_minor": 2
}
