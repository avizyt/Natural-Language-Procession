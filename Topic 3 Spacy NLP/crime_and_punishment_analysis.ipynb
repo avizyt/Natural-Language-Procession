{
 "cells": [
  {
   "cell_type": "code",
   "execution_count": 1,
   "metadata": {},
   "outputs": [
    {
     "name": "stderr",
     "output_type": "stream",
     "text": [
      "2022-07-04 19:05:48.455756: W tensorflow/stream_executor/platform/default/dso_loader.cc:64] Could not load dynamic library 'libcudart.so.11.0'; dlerror: libcudart.so.11.0: cannot open shared object file: No such file or directory\n",
      "2022-07-04 19:05:48.455792: I tensorflow/stream_executor/cuda/cudart_stub.cc:29] Ignore above cudart dlerror if you do not have a GPU set up on your machine.\n"
     ]
    }
   ],
   "source": [
    "import pandas as pd\n",
    "import numpy as np\n",
    "import matplotlib.pyplot as plt\n",
    "import seaborn as sns\n",
    "\n",
    "\n",
    "import re\n",
    "\n",
    "import spacy\n",
    "import nltk\n",
    "from nltk.corpus import stopwords\n"
   ]
  },
  {
   "cell_type": "code",
   "execution_count": 2,
   "metadata": {},
   "outputs": [],
   "source": [
    "book = \"../data/Crime and punishment.txt\"\n",
    "\n",
    "with open(book, 'r') as f:\n",
    "    text = f.read()"
   ]
  },
  {
   "cell_type": "markdown",
   "metadata": {},
   "source": [
    "# **_PART I_**"
   ]
  },
  {
   "cell_type": "markdown",
   "metadata": {},
   "source": [
    "### Experiment with sub sample from main text"
   ]
  },
  {
   "cell_type": "code",
   "execution_count": 19,
   "metadata": {},
   "outputs": [],
   "source": [
    "sub_text = text[:1000]"
   ]
  },
  {
   "cell_type": "code",
   "execution_count": 20,
   "metadata": {},
   "outputs": [
    {
     "data": {
      "text/plain": [
       "'exceptionally hot evening early july young man came garret lodged placewalked slowly though hesitation towards k bridge successfully avoided meeting landlady staircase garret roof high five storied housewas like cupboard room landlady provided garret dinners attendance lived floor every time went obliged pass kitchen door invariably stood open time passed young man sick frightened feeling made scowlfeel ashamed hopelessly debt landlady afraid meeting cowardlyabject quite contrary time past overstrained irritable condition verging hypochondria become completely absorbed isolated fellows dreaded meeting landlady anyone crushed poverty anxieties position late ceased weigh upon given attending matters practical importance lost desire nothing landlady could real terror stopped stairs forced listen trivial irrelevant gossip pestering demands payment threatscomplaints rack brains excuses prevaricate lie rather would creep stairs like catslip unseen evening however coming street became acutely'"
      ]
     },
     "execution_count": 20,
     "metadata": {},
     "output_type": "execute_result"
    }
   ],
   "source": [
    "sub_text"
   ]
  },
  {
   "cell_type": "code",
   "execution_count": 78,
   "metadata": {},
   "outputs": [],
   "source": [
    "sub_text = sub_text.lower()"
   ]
  },
  {
   "cell_type": "code",
   "execution_count": 79,
   "metadata": {},
   "outputs": [],
   "source": [
    "sub_text = re.sub(r\"(?i)(\\W|^)(CHAPTER|PART|CRIME|AND|PUNISHMENT|I|II|III|IV|V|VI|VII|VIII|IX|X)(\\W|$)\", \" \", sub_text)"
   ]
  },
  {
   "cell_type": "code",
   "execution_count": 80,
   "metadata": {},
   "outputs": [],
   "source": [
    "\n",
    "sub_text = re.sub(r\"(@\\[A-Za-z0-9]+)|([^0-9A-Za-z \\t])|(\\w+:\\/\\/\\S+)|^rt|http.+?\", \"\", sub_text)"
   ]
  },
  {
   "cell_type": "code",
   "execution_count": 81,
   "metadata": {},
   "outputs": [
    {
     "data": {
      "text/plain": [
       "' and  i ion an exceptionally hot evening early in july a young man came out ofthe garret in which he lodged in s place walked slowly as thoughin hesitation towards k bridgehe had successfully avoided meeting his landlady on the staircase hisgarret was under the roof of a high fivestoried house was morelike a cupboard than a room the landlady who provided him with garretdinners attendance lived on the floor below every timehe went out he was obliged to pass her kitchen the door of whichinvariably stood open each time he passed the young man had asick frightened feeling which made him scowl feel ashamed he washopelessly in debt to his landlady was afraid of meeting herthis was not because he was cowardly abject quite the contrary butfor some time past he had been in an overstrained irritable conditionverging on hypochondria he had become so completely absorbed inhimself is'"
      ]
     },
     "execution_count": 81,
     "metadata": {},
     "output_type": "execute_result"
    }
   ],
   "source": [
    "sub_text"
   ]
  },
  {
   "cell_type": "code",
   "execution_count": 7,
   "metadata": {},
   "outputs": [
    {
     "name": "stdout",
     "output_type": "stream",
     "text": [
      "['i', 'me', 'my', 'myself', 'we', 'our', 'ours', 'ourselves', 'you', \"you're\", \"you've\", \"you'll\", \"you'd\", 'your', 'yours', 'yourself', 'yourselves', 'he', 'him', 'his', 'himself', 'she', \"she's\", 'her', 'hers', 'herself', 'it', \"it's\", 'its', 'itself', 'they', 'them', 'their', 'theirs', 'themselves', 'what', 'which', 'who', 'whom', 'this', 'that', \"that'll\", 'these', 'those', 'am', 'is', 'are', 'was', 'were', 'be', 'been', 'being', 'have', 'has', 'had', 'having', 'do', 'does', 'did', 'doing', 'a', 'an', 'the', 'and', 'but', 'if', 'or', 'because', 'as', 'until', 'while', 'of', 'at', 'by', 'for', 'with', 'about', 'against', 'between', 'into', 'through', 'during', 'before', 'after', 'above', 'below', 'to', 'from', 'up', 'down', 'in', 'out', 'on', 'off', 'over', 'under', 'again', 'further', 'then', 'once', 'here', 'there', 'when', 'where', 'why', 'how', 'all', 'any', 'both', 'each', 'few', 'more', 'most', 'other', 'some', 'such', 'no', 'nor', 'not', 'only', 'own', 'same', 'so', 'than', 'too', 'very', 's', 't', 'can', 'will', 'just', 'don', \"don't\", 'should', \"should've\", 'now', 'd', 'll', 'm', 'o', 're', 've', 'y', 'ain', 'aren', \"aren't\", 'couldn', \"couldn't\", 'didn', \"didn't\", 'doesn', \"doesn't\", 'hadn', \"hadn't\", 'hasn', \"hasn't\", 'haven', \"haven't\", 'isn', \"isn't\", 'ma', 'mightn', \"mightn't\", 'mustn', \"mustn't\", 'needn', \"needn't\", 'shan', \"shan't\", 'shouldn', \"shouldn't\", 'wasn', \"wasn't\", 'weren', \"weren't\", 'won', \"won't\", 'wouldn', \"wouldn't\"]\n"
     ]
    }
   ],
   "source": [
    "stop = stopwords.words('english')\n",
    "print(stop)"
   ]
  },
  {
   "cell_type": "code",
   "execution_count": 83,
   "metadata": {},
   "outputs": [
    {
     "data": {
      "text/plain": [
       "'ion exceptionally hot evening early july young man came ofthe garret lodged place walked slowly thoughin hesitation towards k bridgehe successfully avoided meeting landlady staircase hisgarret roof high fivestoried house morelike cupboard room landlady provided garretdinners attendance lived floor every timehe went obliged pass kitchen door whichinvariably stood open time passed young man asick frightened feeling made scowl feel ashamed washopelessly debt landlady afraid meeting herthis cowardly abject quite contrary butfor time past overstrained irritable conditionverging hypochondria become completely absorbed inhimself'"
      ]
     },
     "execution_count": 83,
     "metadata": {},
     "output_type": "execute_result"
    }
   ],
   "source": [
    "sub_text = \" \".join([word for word in sub_text.split() if word not in (stop)])\n",
    "sub_text"
   ]
  },
  {
   "cell_type": "markdown",
   "metadata": {},
   "source": [
    "# **_PART II_**"
   ]
  },
  {
   "cell_type": "markdown",
   "metadata": {},
   "source": [
    "### Cleaning the unicode characters of main text\n",
    "\n",
    "[]: # Language: markdown\n",
    "[]: # Path: Topic 3 Spacy NLP/crime_and_punishment_analysis.ipynb"
   ]
  },
  {
   "cell_type": "code",
   "execution_count": 3,
   "metadata": {},
   "outputs": [
    {
     "name": "stdout",
     "output_type": "stream",
     "text": [
      "ich he lodged in S. Placewalked slowly, as though\n",
      "in hesitation, towards K. bridge.\n",
      "\n",
      "He had successfully avoided meeting his landlady on the staircase. His\n",
      "garret was under the roof of a high, five-storied housewas more\n",
      "like a cupboard than a room. The landlady who provided him with garret,\n",
      "dinners,attendance, lived on the floor below,every time\n",
      "he went out he was obliged to pass her kitchen, the door of which\n",
      "invariably stood open.each time he passed, the young man had a\n",
      "sick, frightened feeling, which made him scowlfeel ashamed. He was\n",
      "hopelessly in debt to his landlady,was afraid of meeting her.\n",
      "\n",
      "This was not because he was cowardlyabject, quite the contrary; but\n",
      "for some time past he had been in an overstrained irritable condition,\n",
      "verging on hypochondria. He had become so completely absorbed in\n",
      "himself,isolated from his fellows that he dreaded meeting, not\n",
      "only his landlady, but any\n"
     ]
    }
   ],
   "source": [
    "text = re.sub(r\"(?i)(\\W|^)(CHAPTER|PART|CRIME|AND|PUNISHMENT|I|II|III|IV|V|VI|VII|VIII|IX|X)(\\W|$)\", \"\", text)\n",
    "print(text[100:1000])"
   ]
  },
  {
   "cell_type": "code",
   "execution_count": 4,
   "metadata": {},
   "outputs": [],
   "source": [
    "text = text.lower()\n",
    "text = re.sub(r\"(@\\[A-Za-z0-9]+)|([^0-9A-Za-z \\t])|(\\w+:\\/\\/\\S+)|^rt|http.+?\", \" \", text)"
   ]
  },
  {
   "cell_type": "code",
   "execution_count": 5,
   "metadata": {},
   "outputs": [
    {
     "data": {
      "text/plain": [
       "1082270"
      ]
     },
     "execution_count": 5,
     "metadata": {},
     "output_type": "execute_result"
    }
   ],
   "source": [
    "len(text)"
   ]
  },
  {
   "cell_type": "code",
   "execution_count": 8,
   "metadata": {},
   "outputs": [
    {
     "data": {
      "text/plain": [
       "'exceptionally hot evening early july young man came garret lodged placewalked slowly though hesitati'"
      ]
     },
     "execution_count": 8,
     "metadata": {},
     "output_type": "execute_result"
    }
   ],
   "source": [
    "text = \" \".join([word for word in text.split() if word not in (stop)])\n",
    "text[:100]"
   ]
  },
  {
   "cell_type": "code",
   "execution_count": 10,
   "metadata": {},
   "outputs": [],
   "source": [
    "nlp = spacy.load('en_core_web_md')"
   ]
  },
  {
   "cell_type": "code",
   "execution_count": 11,
   "metadata": {},
   "outputs": [],
   "source": [
    "tok= []\n",
    "label = []\n",
    "for i in range(0,10000):\n",
    "    tokens = nlp(text[i*1000: (i+1)*1000])\n",
    "    for w in tokens.ents:\n",
    "        if w.text not in tok:\n",
    "            tok.append(w.text)\n",
    "            label.append(w.label_)\n"
   ]
  },
  {
   "cell_type": "code",
   "execution_count": 12,
   "metadata": {},
   "outputs": [
    {
     "name": "stdout",
     "output_type": "stream",
     "text": [
      "['k bridge', 'five', 'evening', 'last month lying days', 'jack', 'petersburg', 'two days', 'quarter', 'german', 'brimlessbent', 'one', 'seven', 'month later', 'germans', 'two', 'three four', 'fourth', 'eyed vi', 'raskolnikov', 'month ago', 'geraniumsmuslin curtains', 'three half penny', 'last pledge month day', 'yesterday', 'another month', 'half', 'three', 'ten', 'fifteen', 'half month', 'twenty', 'thirty five', 'ivanovna raskolnikov', 'first', 'agitation ii raskolnikov', 'le', 'fourteen', 'five minutes', 'fifty', 'soul month', 'lebeziatnikov', 'night', 'last five days', 'days', 'iti', 'four years ago', 'persia', 'lebeziatnikov lewes', 'ivan ivanitch', 'half dozen', 'katerina ivanovna', 'six', 'nine', 'thirty roubles', 'drap de dames', 'darya frantsovna', 'leadingon', 'sofya semyonovna', 'amalia', 'lebeziatnikov hm', 'katerina ivanovnagives room kapernaumovs tailors lodges', 'kapernaumov', 'ivan afanasyvitch excellency ivan', 'five weeks ago', 'eleven roubles', 'eleven', 'landlady amalia', 'two hours', 'six days ago', 'twenty three roubles', 'five nights', 'next day', 'five days ago', 'fifth', 'sinceleft', 'egyptian', 'raskolnikov laughedsaid', 'thirty', 'pomatum', 'ed ones', 'iven', 'kozel house', 'g gohe', 'house', 'american', 'thirty years', 'year', 'nine years old', 'tion ho nou', 'tofro', 'late next day', 'last fortnight', 'hough', 'runbuy', 'womana', 'two ounces two', 'two months', 'months ago', 'four months', 'two months ago']\n",
      "['FAC', 'CARDINAL', 'TIME', 'DATE', 'PERSON', 'GPE', 'DATE', 'CARDINAL', 'NORP', 'ORG', 'CARDINAL', 'CARDINAL', 'DATE', 'NORP', 'CARDINAL', 'CARDINAL', 'ORDINAL', 'PERSON', 'PERSON', 'DATE', 'ORG', 'MONEY', 'DATE', 'DATE', 'DATE', 'CARDINAL', 'CARDINAL', 'CARDINAL', 'CARDINAL', 'DATE', 'CARDINAL', 'CARDINAL', 'PERSON', 'ORDINAL', 'LAW', 'ORG', 'DATE', 'TIME', 'CARDINAL', 'DATE', 'PERSON', 'TIME', 'DATE', 'DATE', 'ORG', 'DATE', 'GPE', 'PERSON', 'PERSON', 'CARDINAL', 'PERSON', 'CARDINAL', 'CARDINAL', 'MONEY', 'ORG', 'PERSON', 'ORG', 'PERSON', 'PERSON', 'ORG', 'PERSON', 'PERSON', 'PERSON', 'DATE', 'QUANTITY', 'CARDINAL', 'PERSON', 'TIME', 'DATE', 'QUANTITY', 'TIME', 'DATE', 'DATE', 'ORDINAL', 'PERSON', 'NORP', 'PERSON', 'CARDINAL', 'GPE', 'PERSON', 'PERSON', 'ORG', 'PERSON', 'ORG', 'NORP', 'DATE', 'DATE', 'DATE', 'PERSON', 'PERSON', 'DATE', 'DATE', 'PERSON', 'PERSON', 'PERSON', 'QUANTITY', 'DATE', 'DATE', 'DATE', 'DATE']\n"
     ]
    }
   ],
   "source": [
    "print(tok[:100])\n",
    "print(label[:100])"
   ]
  },
  {
   "cell_type": "code",
   "execution_count": 13,
   "metadata": {},
   "outputs": [
    {
     "name": "stdout",
     "output_type": "stream",
     "text": [
      "Size of token: 1009\n",
      "Size of labels: 1009\n"
     ]
    }
   ],
   "source": [
    "print(f\"Size of token: {len(tok)}\\nSize of labels: {len(label)}\")"
   ]
  },
  {
   "cell_type": "code",
   "execution_count": 14,
   "metadata": {},
   "outputs": [],
   "source": [
    "df = pd.DataFrame({'token': tok, 'label': label})"
   ]
  },
  {
   "cell_type": "code",
   "execution_count": 15,
   "metadata": {},
   "outputs": [
    {
     "data": {
      "text/plain": [
       "1009"
      ]
     },
     "execution_count": 15,
     "metadata": {},
     "output_type": "execute_result"
    }
   ],
   "source": [
    "len(df)"
   ]
  },
  {
   "cell_type": "code",
   "execution_count": 16,
   "metadata": {},
   "outputs": [
    {
     "data": {
      "text/html": [
       "<div>\n",
       "<style scoped>\n",
       "    .dataframe tbody tr th:only-of-type {\n",
       "        vertical-align: middle;\n",
       "    }\n",
       "\n",
       "    .dataframe tbody tr th {\n",
       "        vertical-align: top;\n",
       "    }\n",
       "\n",
       "    .dataframe thead th {\n",
       "        text-align: right;\n",
       "    }\n",
       "</style>\n",
       "<table border=\"1\" class=\"dataframe\">\n",
       "  <thead>\n",
       "    <tr style=\"text-align: right;\">\n",
       "      <th></th>\n",
       "      <th>token</th>\n",
       "      <th>label</th>\n",
       "    </tr>\n",
       "  </thead>\n",
       "  <tbody>\n",
       "    <tr>\n",
       "      <th>0</th>\n",
       "      <td>k bridge</td>\n",
       "      <td>FAC</td>\n",
       "    </tr>\n",
       "    <tr>\n",
       "      <th>1</th>\n",
       "      <td>five</td>\n",
       "      <td>CARDINAL</td>\n",
       "    </tr>\n",
       "    <tr>\n",
       "      <th>2</th>\n",
       "      <td>evening</td>\n",
       "      <td>TIME</td>\n",
       "    </tr>\n",
       "    <tr>\n",
       "      <th>3</th>\n",
       "      <td>last month lying days</td>\n",
       "      <td>DATE</td>\n",
       "    </tr>\n",
       "    <tr>\n",
       "      <th>4</th>\n",
       "      <td>jack</td>\n",
       "      <td>PERSON</td>\n",
       "    </tr>\n",
       "  </tbody>\n",
       "</table>\n",
       "</div>"
      ],
      "text/plain": [
       "                   token     label\n",
       "0               k bridge       FAC\n",
       "1                   five  CARDINAL\n",
       "2                evening      TIME\n",
       "3  last month lying days      DATE\n",
       "4                   jack    PERSON"
      ]
     },
     "execution_count": 16,
     "metadata": {},
     "output_type": "execute_result"
    }
   ],
   "source": [
    "df.head()"
   ]
  },
  {
   "cell_type": "code",
   "execution_count": 17,
   "metadata": {},
   "outputs": [
    {
     "data": {
      "text/plain": [
       "'Buildings, airports, highways, bridges, etc.'"
      ]
     },
     "execution_count": 17,
     "metadata": {},
     "output_type": "execute_result"
    }
   ],
   "source": [
    "spacy.explain('FAC')"
   ]
  },
  {
   "cell_type": "code",
   "execution_count": 18,
   "metadata": {},
   "outputs": [],
   "source": [
    "df.to_csv('../data/crime_and_punishment_tokens.csv', index=False)"
   ]
  }
 ],
 "metadata": {
  "kernelspec": {
   "display_name": "Python 3.9.7 ('tflow')",
   "language": "python",
   "name": "python3"
  },
  "language_info": {
   "codemirror_mode": {
    "name": "ipython",
    "version": 3
   },
   "file_extension": ".py",
   "mimetype": "text/x-python",
   "name": "python",
   "nbconvert_exporter": "python",
   "pygments_lexer": "ipython3",
   "version": "3.9.7"
  },
  "orig_nbformat": 4,
  "vscode": {
   "interpreter": {
    "hash": "9bcb480660d2128d5259e436793ac5c82795c215d28de8bdd682d8e8c0f05304"
   }
  }
 },
 "nbformat": 4,
 "nbformat_minor": 2
}
