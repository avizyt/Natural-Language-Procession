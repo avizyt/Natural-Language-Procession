{
 "cells": [
  {
   "cell_type": "code",
   "execution_count": 1,
   "metadata": {},
   "outputs": [
    {
     "name": "stderr",
     "output_type": "stream",
     "text": [
      "2022-07-04 19:17:37.600710: W tensorflow/stream_executor/platform/default/dso_loader.cc:64] Could not load dynamic library 'libcudart.so.11.0'; dlerror: libcudart.so.11.0: cannot open shared object file: No such file or directory\n",
      "2022-07-04 19:17:37.600741: I tensorflow/stream_executor/cuda/cudart_stub.cc:29] Ignore above cudart dlerror if you do not have a GPU set up on your machine.\n"
     ]
    }
   ],
   "source": [
    "import pandas as pd\n",
    "import numpy as np\n",
    "import matplotlib.pyplot as plt\n",
    "import seaborn as sns\n",
    "\n",
    "\n",
    "import re\n",
    "\n",
    "import spacy\n",
    "import nltk\n",
    "from nltk.corpus import stopwords"
   ]
  },
  {
   "cell_type": "markdown",
   "metadata": {},
   "source": [
    "* geo = Geographical Entity\n",
    "* org = Organization\n",
    "* per = Person\n",
    "* gpe = Geopolitical Entity\n",
    "* tim = Time indicator\n",
    "* art = Artifact\n",
    "* eve = Event\n",
    "* nat = Natural Phenomenon"
   ]
  },
  {
   "cell_type": "code",
   "execution_count": 5,
   "metadata": {},
   "outputs": [],
   "source": [
    "book = \"../data/Crime and punishment.txt\"\n",
    "\n",
    "with open(book, 'r') as f:\n",
    "    text = f.read()"
   ]
  },
  {
   "cell_type": "code",
   "execution_count": 6,
   "metadata": {},
   "outputs": [],
   "source": [
    "text = re.sub(r\"(?i)(\\W|^)(CHAPTER|PART|CRIME|AND|PUNISHMENT|I|II|III|IV|V|VI|VII|VIII|IX|X)(\\W|$)\", \"\", text)"
   ]
  },
  {
   "cell_type": "code",
   "execution_count": 7,
   "metadata": {},
   "outputs": [
    {
     "name": "stdout",
     "output_type": "stream",
     "text": [
      "On an exceptionally hot evening early in July a young man came out of\n",
      "the garret in which he lodged in S. Placewalked slowly, as though\n",
      "in hesitation, towards K. bridge.\n",
      "\n",
      "He had successfully avoided meeting his landlady on the staircase. His\n",
      "garret was under the roof of a high, five-storied housewas more\n",
      "like a cupboard than a room. The landlady who provided him with garret,\n",
      "dinners,attendance, lived on the floor below,every time\n",
      "he went out he was obliged to pass her kitchen, the door of which\n",
      "invariably stood open.each time he passed, the young man had a\n",
      "sick, frightened feeling, which made him scowlfeel ashamed. He was\n",
      "hopelessly in debt to his landlady,was afraid of meeting her.\n",
      "\n",
      "This was not because he was cowardlyabject, quite the contrary; but\n",
      "for some time past he had been in an overstrained irritable condition,\n",
      "verging on hypochondria. He had become so completely absorbed in\n",
      "himself,isolated from his fellows that he dreaded meeting, not\n",
      "only his landlady, but anyone at all. H\n"
     ]
    }
   ],
   "source": [
    "print(text[:1000])"
   ]
  },
  {
   "cell_type": "code",
   "execution_count": 8,
   "metadata": {},
   "outputs": [],
   "source": [
    "stop = stopwords.words('english')"
   ]
  },
  {
   "cell_type": "code",
   "execution_count": 9,
   "metadata": {},
   "outputs": [],
   "source": [
    "text = text.lower()"
   ]
  },
  {
   "cell_type": "markdown",
   "metadata": {},
   "source": [
    "### Remove punctuations"
   ]
  },
  {
   "cell_type": "code",
   "execution_count": 10,
   "metadata": {},
   "outputs": [
    {
     "name": "stdout",
     "output_type": "stream",
     "text": [
      "!\"#$%&'()*+,-./:;<=>?@[\\]^_`{|}~\n"
     ]
    }
   ],
   "source": [
    "import string\n",
    "PUNCTUATION = string.punctuation\n",
    "print(PUNCTUATION)"
   ]
  },
  {
   "cell_type": "code",
   "execution_count": 11,
   "metadata": {},
   "outputs": [
    {
     "data": {
      "text/plain": [
       "'\\ufeffon an exceptionally hot evening early in july a young man came out of the garret in which he lodged'"
      ]
     },
     "execution_count": 11,
     "metadata": {},
     "output_type": "execute_result"
    }
   ],
   "source": [
    "text = \" \".join([w for w in text.split() if w not in PUNCTUATION])\n",
    "text[:100]"
   ]
  },
  {
   "cell_type": "markdown",
   "metadata": {},
   "source": [
    "### Remove unicode characters"
   ]
  },
  {
   "cell_type": "code",
   "execution_count": 12,
   "metadata": {},
   "outputs": [
    {
     "data": {
      "text/plain": [
       "' on an exceptionally hot evening early in july a young man came out of the garret in which he lodged'"
      ]
     },
     "execution_count": 12,
     "metadata": {},
     "output_type": "execute_result"
    }
   ],
   "source": [
    "text = re.sub(r\"(@\\[A-Za-z0-9]+)|([^0-9A-Za-z \\t])|(\\w+:\\/\\/\\S+)|^rt|http.+?\", \" \", text)\n",
    "text[:100]"
   ]
  },
  {
   "cell_type": "markdown",
   "metadata": {},
   "source": [
    "### Remove stopwords"
   ]
  },
  {
   "cell_type": "code",
   "execution_count": 13,
   "metadata": {},
   "outputs": [
    {
     "data": {
      "text/plain": [
       "'exceptionally hot evening early july young man came garret lodged placewalked slowly though hesitati'"
      ]
     },
     "execution_count": 13,
     "metadata": {},
     "output_type": "execute_result"
    }
   ],
   "source": [
    "text = \" \".join([word for word in text.split() if word not in (stop)])\n",
    "text[:100]"
   ]
  },
  {
   "cell_type": "code",
   "execution_count": 24,
   "metadata": {},
   "outputs": [
    {
     "name": "stdout",
     "output_type": "stream",
     "text": [
      "90085\n"
     ]
    }
   ],
   "source": [
    "clean_text = text.split()\n",
    "print(len(clean_text))"
   ]
  },
  {
   "cell_type": "code",
   "execution_count": 26,
   "metadata": {},
   "outputs": [
    {
     "data": {
      "text/plain": [
       "['exceptionally',\n",
       " 'hot',\n",
       " 'evening',\n",
       " 'early',\n",
       " 'july',\n",
       " 'young',\n",
       " 'man',\n",
       " 'came',\n",
       " 'garret',\n",
       " 'lodged',\n",
       " 'placewalked',\n",
       " 'slowly',\n",
       " 'though',\n",
       " 'hesitation',\n",
       " 'towards',\n",
       " 'k',\n",
       " 'bridge',\n",
       " 'successfully',\n",
       " 'avoided',\n",
       " 'meeting',\n",
       " 'landlady',\n",
       " 'staircase',\n",
       " 'garret',\n",
       " 'roof',\n",
       " 'high',\n",
       " 'five',\n",
       " 'storied',\n",
       " 'housewas',\n",
       " 'like',\n",
       " 'cupboard',\n",
       " 'room',\n",
       " 'landlady',\n",
       " 'provided',\n",
       " 'garret',\n",
       " 'dinners',\n",
       " 'attendance',\n",
       " 'lived',\n",
       " 'floor',\n",
       " 'every',\n",
       " 'time',\n",
       " 'went',\n",
       " 'obliged',\n",
       " 'pass',\n",
       " 'kitchen',\n",
       " 'door',\n",
       " 'invariably',\n",
       " 'stood',\n",
       " 'open',\n",
       " 'time',\n",
       " 'passed',\n",
       " 'young',\n",
       " 'man',\n",
       " 'sick',\n",
       " 'frightened',\n",
       " 'feeling',\n",
       " 'made',\n",
       " 'scowlfeel',\n",
       " 'ashamed',\n",
       " 'hopelessly',\n",
       " 'debt',\n",
       " 'landlady',\n",
       " 'afraid',\n",
       " 'meeting',\n",
       " 'cowardlyabject',\n",
       " 'quite',\n",
       " 'contrary',\n",
       " 'time',\n",
       " 'past',\n",
       " 'overstrained',\n",
       " 'irritable',\n",
       " 'condition',\n",
       " 'verging',\n",
       " 'hypochondria',\n",
       " 'become',\n",
       " 'completely',\n",
       " 'absorbed',\n",
       " 'isolated',\n",
       " 'fellows',\n",
       " 'dreaded',\n",
       " 'meeting',\n",
       " 'landlady',\n",
       " 'anyone',\n",
       " 'crushed',\n",
       " 'poverty',\n",
       " 'anxieties',\n",
       " 'position',\n",
       " 'late',\n",
       " 'ceased',\n",
       " 'weigh',\n",
       " 'upon',\n",
       " 'given',\n",
       " 'attending',\n",
       " 'matters',\n",
       " 'practical',\n",
       " 'importance',\n",
       " 'lost',\n",
       " 'desire',\n",
       " 'nothing',\n",
       " 'landlady',\n",
       " 'could']"
      ]
     },
     "execution_count": 26,
     "metadata": {},
     "output_type": "execute_result"
    }
   ],
   "source": [
    "clean_text[:100]"
   ]
  },
  {
   "cell_type": "code",
   "execution_count": 25,
   "metadata": {},
   "outputs": [
    {
     "name": "stdout",
     "output_type": "stream",
     "text": [
      "13623\n"
     ]
    }
   ],
   "source": [
    "clean_text_set = set(clean_text)\n",
    "print(len(clean_text_set))"
   ]
  },
  {
   "cell_type": "code",
   "execution_count": 15,
   "metadata": {},
   "outputs": [],
   "source": [
    "nlp = spacy.load('en_core_web_md')"
   ]
  },
  {
   "cell_type": "code",
   "execution_count": 35,
   "metadata": {},
   "outputs": [
    {
     "name": "stdout",
     "output_type": "stream",
     "text": [
      "13623\n",
      "<class 'list'>\n"
     ]
    }
   ],
   "source": [
    "clean_text_set = list(clean_text_set)\n",
    "print(len(clean_text_set))\n",
    "print(type(clean_text_set))"
   ]
  },
  {
   "cell_type": "code",
   "execution_count": 36,
   "metadata": {},
   "outputs": [
    {
     "name": "stdout",
     "output_type": "stream",
     "text": [
      "sheer portrait remote persistently repaying courtyard relapsed quiver doorslowly gown 14 peremptoril\n"
     ]
    }
   ],
   "source": [
    "clean_doc = \" \".join(w for w in clean_text_set)\n",
    "print(clean_doc[:100])"
   ]
  },
  {
   "cell_type": "markdown",
   "metadata": {},
   "source": [
    "* Lemmatized words"
   ]
  },
  {
   "cell_type": "code",
   "execution_count": 43,
   "metadata": {},
   "outputs": [
    {
     "name": "stderr",
     "output_type": "stream",
     "text": [
      "[nltk_data] Downloading package wordnet to /home/avizyt/nltk_data...\n"
     ]
    },
    {
     "data": {
      "text/plain": [
       "True"
      ]
     },
     "execution_count": 43,
     "metadata": {},
     "output_type": "execute_result"
    }
   ],
   "source": [
    "nltk.download('wordnet')"
   ]
  },
  {
   "cell_type": "code",
   "execution_count": 45,
   "metadata": {},
   "outputs": [],
   "source": [
    "from nltk.stem import WordNetLemmatizer\n",
    "lemmatizer = WordNetLemmatizer()"
   ]
  },
  {
   "cell_type": "code",
   "execution_count": 37,
   "metadata": {},
   "outputs": [],
   "source": [
    "tok= []\n",
    "label = []\n",
    "for i in range(0,14):\n",
    "    tokens = nlp(clean_doc[i*1000: (i+1)*1000])\n",
    "    for w in tokens.ents:\n",
    "        if w.text not in tok:\n",
    "            tok.append(w.text)\n",
    "            label.append(w.label_)"
   ]
  },
  {
   "cell_type": "code",
   "execution_count": 39,
   "metadata": {},
   "outputs": [
    {
     "name": "stdout",
     "output_type": "stream",
     "text": [
      "Word: 14 -> : Label: CARDINAL\n",
      "Word: january -> : Label: DATE\n",
      "Word: wifedaughter singersa booksbe schilleresque -> : Label: PERSON\n",
      "Word: amalia -> : Label: PERSON\n",
      "Word: nowcan -> : Label: PERSON\n",
      "Word: deformed lodge -> : Label: ORG\n",
      "Word: doorstood demoralisation -> : Label: PERSON\n",
      "Word: andrey -> : Label: PERSON\n",
      "Word: bedget cheekstears -> : Label: PERSON\n",
      "Word: stammershe -> : Label: CARDINAL\n"
     ]
    }
   ],
   "source": [
    "for i in range(0,10):\n",
    "    print(f\"Word: {tok[i]} -> : Label: {label[i]}\")"
   ]
  }
 ],
 "metadata": {
  "kernelspec": {
   "display_name": "Python 3.9.7 ('tflow')",
   "language": "python",
   "name": "python3"
  },
  "language_info": {
   "codemirror_mode": {
    "name": "ipython",
    "version": 3
   },
   "file_extension": ".py",
   "mimetype": "text/x-python",
   "name": "python",
   "nbconvert_exporter": "python",
   "pygments_lexer": "ipython3",
   "version": "3.9.7"
  },
  "orig_nbformat": 4,
  "vscode": {
   "interpreter": {
    "hash": "9bcb480660d2128d5259e436793ac5c82795c215d28de8bdd682d8e8c0f05304"
   }
  }
 },
 "nbformat": 4,
 "nbformat_minor": 2
}
