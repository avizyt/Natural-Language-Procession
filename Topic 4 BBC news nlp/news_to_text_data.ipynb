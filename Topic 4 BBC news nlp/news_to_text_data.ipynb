{
 "cells": [
  {
   "cell_type": "code",
   "execution_count": 1,
   "metadata": {},
   "outputs": [],
   "source": [
    "import re\n",
    "import glob\n",
    "import os\n",
    "import pandas as pd\n",
    "import numpy as np\n",
    "import nltk\n",
    "from nltk.corpus import stopwords"
   ]
  },
  {
   "cell_type": "code",
   "execution_count": 184,
   "metadata": {},
   "outputs": [],
   "source": [
    "PATH = \"../data/bbc/tech/*.txt\"\n",
    "res = glob.glob(PATH)"
   ]
  },
  {
   "cell_type": "code",
   "execution_count": 185,
   "metadata": {},
   "outputs": [],
   "source": [
    "def read_file(file_path):\n",
    "    with open(file_path, 'r') as f:\n",
    "        return f.read()"
   ]
  },
  {
   "cell_type": "code",
   "execution_count": 186,
   "metadata": {},
   "outputs": [],
   "source": [
    "for file_path in res:\n",
    "    read_file(file_path)"
   ]
  },
  {
   "cell_type": "code",
   "execution_count": 187,
   "metadata": {},
   "outputs": [],
   "source": [
    "doc = [read_file(file_path) for file_path in res]"
   ]
  },
  {
   "cell_type": "code",
   "execution_count": 188,
   "metadata": {},
   "outputs": [],
   "source": [
    "doc = str(doc)"
   ]
  },
  {
   "cell_type": "code",
   "execution_count": 189,
   "metadata": {},
   "outputs": [],
   "source": [
    "import contractions\n",
    "\n",
    "expanded_words = []\n",
    "for w in doc.split():\n",
    "    expanded_words.append(contractions.fix(w))\n",
    "\n",
    "refined_doc = \" \".join(expanded_words)"
   ]
  },
  {
   "cell_type": "code",
   "execution_count": 190,
   "metadata": {},
   "outputs": [],
   "source": [
    "refined_doc = \" \".join([word.lower() for word in refined_doc.split()])"
   ]
  },
  {
   "cell_type": "code",
   "execution_count": 191,
   "metadata": {},
   "outputs": [],
   "source": [
    "import string\n",
    "stop_words= stopwords.words('english') + list(string.punctuation)"
   ]
  },
  {
   "cell_type": "code",
   "execution_count": 192,
   "metadata": {},
   "outputs": [],
   "source": [
    "refined_doc = \" \".join([word for word in refined_doc.split() if word not in stop_words])"
   ]
  },
  {
   "cell_type": "code",
   "execution_count": 193,
   "metadata": {},
   "outputs": [
    {
     "data": {
      "text/plain": [
       "'[\\'digital guru floats sub-$100 pc\\\\n\\\\nnicholas negroponte, chairman founder mit\\\\\\'s media labs, says developing laptop pc go sale less $100 (£53).\\\\n\\\\nhe told bbc world service programme go digital hoped would become education tool developing countries. said one laptop per child could important development child whole family, village neighbourhood\". said child could use laptop like text book. described device stripped laptop, would run linux-based operating system, \"we get display $20, need rear project image rather using ordinary flat panel.\\\\n\\\\n\"the second trick get rid fat skinny gain speed ability use smaller processors slower memory.\" device probably exported kit parts assembled locally keep costs down. mr negroponte said profit venture, though recognised manufacturers components would making money. 1995 mr negroponte published bestselling digital, widely seen predicting digital age. concept based experiments us state maine, children given laptop computers take home work on.\\\\n\\\\nwhile '"
      ]
     },
     "execution_count": 193,
     "metadata": {},
     "output_type": "execute_result"
    }
   ],
   "source": [
    "refined_doc[:1000]"
   ]
  },
  {
   "cell_type": "code",
   "execution_count": 194,
   "metadata": {},
   "outputs": [],
   "source": [
    "refined_doc = re.sub(r\"\\\\n\\\\n|\\\\\\|'s\",\" \",refined_doc)"
   ]
  },
  {
   "cell_type": "code",
   "execution_count": 195,
   "metadata": {},
   "outputs": [],
   "source": [
    "refined_doc = re.sub(r\"\\\\\\'s\",\" \",refined_doc)"
   ]
  },
  {
   "cell_type": "code",
   "execution_count": 196,
   "metadata": {},
   "outputs": [
    {
     "data": {
      "text/plain": [
       "'[\\'digital guru floats sub-$100 pc nicholas negroponte, chairman founder mit  media labs, says developing laptop pc go sale less $100 (£53). he told bbc world service programme go digital hoped would become education tool developing countries. said one laptop per child could important development child whole family, village neighbourhood\". said child could use laptop like text book. described device stripped laptop, would run linux-based operating system, \"we get display $20, need rear project image rather using ordinary flat panel. \"the second trick get rid fat skinny gain speed ability use smaller processors slower memory.\" device probably exported kit parts assembled locally keep costs down. mr negroponte said profit venture, though recognised manufacturers components would making money. 1995 mr negroponte published bestselling digital, widely seen predicting digital age. concept based experiments us state maine, children given laptop computers take home work on. while idea popular a'"
      ]
     },
     "execution_count": 196,
     "metadata": {},
     "output_type": "execute_result"
    }
   ],
   "source": [
    "refined_doc[:1000]"
   ]
  },
  {
   "cell_type": "code",
   "execution_count": 197,
   "metadata": {},
   "outputs": [],
   "source": [
    "# cleaned_doc = re.sub(r\"(\\w+:\\/\\/\\S+)|^rt|http.+?\",\"\",refined_doc)"
   ]
  },
  {
   "cell_type": "code",
   "execution_count": 198,
   "metadata": {},
   "outputs": [],
   "source": [
    "cleaned_doc = re.sub('[0-9]+', '', refined_doc)"
   ]
  },
  {
   "cell_type": "code",
   "execution_count": 199,
   "metadata": {},
   "outputs": [],
   "source": [
    "cleaned_doc = re.sub(r\"[^A-Za-z0-9]\", \" \", cleaned_doc)"
   ]
  },
  {
   "cell_type": "code",
   "execution_count": 200,
   "metadata": {},
   "outputs": [],
   "source": [
    "cleaned_doc = re.sub(r\"\\\\n\\|\\\\n\\',|\\\\\\'|\\'|$bn|bn| bn\",\" \",cleaned_doc)"
   ]
  },
  {
   "cell_type": "code",
   "execution_count": 201,
   "metadata": {},
   "outputs": [],
   "source": [
    "cleaned_doc = re.sub(r\"\\\\n |\\\\n|%,\",\" \",cleaned_doc)"
   ]
  },
  {
   "cell_type": "code",
   "execution_count": 202,
   "metadata": {},
   "outputs": [],
   "source": [
    "cleaned_doc = re.sub('[0-9]+', '', cleaned_doc)"
   ]
  },
  {
   "cell_type": "code",
   "execution_count": 203,
   "metadata": {},
   "outputs": [],
   "source": [
    "cleaned_doc = re.sub(r\"\\\\n ,|\\\\n|%|$|$.|.%|.%|($. ; £. )|-,| - |-\",\" \",cleaned_doc)"
   ]
  },
  {
   "cell_type": "code",
   "execution_count": 204,
   "metadata": {},
   "outputs": [],
   "source": [
    "cleaned_doc = re.sub(r\"  |   |    |     \",\" \",cleaned_doc)\n"
   ]
  },
  {
   "cell_type": "code",
   "execution_count": 205,
   "metadata": {},
   "outputs": [],
   "source": [
    "cleaned_doc = re.sub(r\"  |   |    |     | n | n| mr | mrs |mr | mr|mr\",\" \",cleaned_doc)"
   ]
  },
  {
   "cell_type": "code",
   "execution_count": 206,
   "metadata": {},
   "outputs": [
    {
     "data": {
      "text/plain": [
       "'iew predicts wimax steal lot market share g clear winner bob larribeau principal analyst telecom view said better return investment offered technologies wimax could dent possible returns g etworks growing ubiquity wi fi must forgotten either technology popping places ever wider use held back price differences across countries suppliers moves unite mobile fixed phones look set get emphasis too for start bt looks set roll bluephone project ext months service revolves around hybrid device uses mobile etworks switches back fixed line home fixed line phones also start get much serious competition technology formidable ame voice ip voip voip routes calls via et instead fixed line phone etwork anyone broadband connection uk et using population use voip could slash monthly phone bills used it telecommunications regulator ofcom declared area code voip calls likely see lot consumer focused voip call services starting up home broadband services also start increase speed dwindling umbers ew users signing force pace competition year portable music player looks like year portable media player motorola announced deal apple produce phone works itunes service hybrid gadgets sport big memory lots functions become commonplace pace advancement storage media continue mean cost per megabyte memory plummet devices sport huge hard drives letting store data ever wanted knew had convergence could mean single function devices start dwindle umber instead every gadget able almost anything communicate almost way want downside consumers face series tough choices confronted bewildering array gadgets enormous umbers features vast data holding capacities kind problem gadget fans live with  slow start speedy et services faster broadband uk becoming reality internet providers offer super fast services some lucky britons already take advantage uk online megabits per second service launched ovember bt retail announced trial speed service ational rollout year end service providers expected follow suit glut ew voice video services follow if bandwidth isps buy it said jill finger research director analyst firm idc others watching bt retail trials initially employees later summer customers interest bt retail said super fast service could way differentiating players it losing market share could one way gaining back said ms finger wanadoo set trial mbps service summer also plans roll unbundled services means takes etwork bt provide speeds mbps timetable moment cable firms tl telewest also bound increase bandwidth time future and according tl spokesman better position bt long term bt etwork limited compared cable services coming stream video demand question mbps enough asked  a decade good website design the web looks different today years ago back yahoo launched websites text based amazon google ebay yet appear but says usability guru dr jakob ielsen things stayed constant decade amely principles makes site easy use dr ielsen looked back decade work usability considered whether core guidel'"
      ]
     },
     "execution_count": 206,
     "metadata": {},
     "output_type": "execute_result"
    }
   ],
   "source": [
    "cleaned_doc[3000:6000]"
   ]
  },
  {
   "cell_type": "code",
   "execution_count": 207,
   "metadata": {},
   "outputs": [],
   "source": [
    "with open(\"../data/bbc/tech_clean.txt\", 'w') as f:\n",
    "    f.write(cleaned_doc)"
   ]
  }
 ],
 "metadata": {
  "kernelspec": {
   "display_name": "Python 3.9.7 ('tflow')",
   "language": "python",
   "name": "python3"
  },
  "language_info": {
   "codemirror_mode": {
    "name": "ipython",
    "version": 3
   },
   "file_extension": ".py",
   "mimetype": "text/x-python",
   "name": "python",
   "nbconvert_exporter": "python",
   "pygments_lexer": "ipython3",
   "version": "3.9.7"
  },
  "orig_nbformat": 4,
  "vscode": {
   "interpreter": {
    "hash": "9bcb480660d2128d5259e436793ac5c82795c215d28de8bdd682d8e8c0f05304"
   }
  }
 },
 "nbformat": 4,
 "nbformat_minor": 2
}
